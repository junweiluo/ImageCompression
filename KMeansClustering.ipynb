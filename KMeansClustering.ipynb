{
 "cells": [
  {
   "cell_type": "code",
   "execution_count": 59,
   "metadata": {},
   "outputs": [
    {
     "name": "stdout",
     "output_type": "stream",
     "text": [
      "Requirement already satisfied: Pillow in /Users/junweiluo/anaconda3/lib/python3.7/site-packages (6.2.0)\n",
      "Note: you may need to restart the kernel to use updated packages.\n"
     ]
    }
   ],
   "source": [
    "pip install Pillow"
   ]
  },
  {
   "cell_type": "code",
   "execution_count": 60,
   "metadata": {},
   "outputs": [],
   "source": [
    "from PIL import Image\n",
    "import numpy as np"
   ]
  },
  {
   "cell_type": "code",
   "execution_count": 61,
   "metadata": {},
   "outputs": [
    {
     "name": "stdout",
     "output_type": "stream",
     "text": [
      "600 800\n"
     ]
    }
   ],
   "source": [
    "im = Image.open('sample.jpg') # Can be many different formats.\n",
    "pix = im.load()\n",
    "(x, y) =im.size  # Get the width and hight of the image for iterating over\n",
    "print(x, y)\n",
    "#print(pix[x,y])  # Get the RGBA Value of the a pixel of an image\n",
    "#pix[x,y] = value  # Set the RGBA Value of the image (tuple)\n",
    "#im.save('sample.png')  # Save the modified pixels as .png"
   ]
  },
  {
   "cell_type": "code",
   "execution_count": 62,
   "metadata": {},
   "outputs": [],
   "source": [
    "pix_load = np.array(im.getdata()).reshape(im.size[0], im.size[1], 3)"
   ]
  },
  {
   "cell_type": "code",
   "execution_count": 63,
   "metadata": {},
   "outputs": [
    {
     "data": {
      "text/plain": [
       "array([[[  4,   4,   4],\n",
       "        [  3,   3,   3],\n",
       "        [  3,   1,   2],\n",
       "        ...,\n",
       "        [ 52,   1,  10],\n",
       "        [ 52,   0,   9],\n",
       "        [ 53,   0,   8]],\n",
       "\n",
       "       [[ 54,   1,   7],\n",
       "        [ 52,   2,   5],\n",
       "        [ 54,   4,   7],\n",
       "        ...,\n",
       "        [ 89,   2,  11],\n",
       "        [ 88,   1,  10],\n",
       "        [ 89,   2,  11]],\n",
       "\n",
       "       [[ 87,   2,   9],\n",
       "        [ 87,   2,   9],\n",
       "        [ 87,   2,   9],\n",
       "        ...,\n",
       "        [  5,   4,   2],\n",
       "        [  5,   4,   2],\n",
       "        [  5,   4,   0]],\n",
       "\n",
       "       ...,\n",
       "\n",
       "       [[  4,   4,   2],\n",
       "        [  4,   4,   2],\n",
       "        [  5,   5,   3],\n",
       "        ...,\n",
       "        [133,  13,  25],\n",
       "        [ 99,   8,  15],\n",
       "        [ 55,   0,   0]],\n",
       "\n",
       "       [[ 45,   1,   0],\n",
       "        [ 43,   1,   3],\n",
       "        [ 47,   0,   8],\n",
       "        ...,\n",
       "        [163,  99,  51],\n",
       "        [173, 113,  59],\n",
       "        [151,  96,  39]],\n",
       "\n",
       "       [[165, 100,  42],\n",
       "        [201, 144,  75],\n",
       "        [178, 127,  35],\n",
       "        ...,\n",
       "        [ 96,   3,  13],\n",
       "        [ 98,   2,  13],\n",
       "        [ 97,   1,  12]]])"
      ]
     },
     "execution_count": 63,
     "metadata": {},
     "output_type": "execute_result"
    }
   ],
   "source": [
    "pix_load"
   ]
  },
  {
   "cell_type": "code",
   "execution_count": 64,
   "metadata": {},
   "outputs": [],
   "source": [
    "new_img = pix_load.reshape((pix_load.shape[0]*pix_load.shape[1]), pix_load.shape[2])/255"
   ]
  },
  {
   "cell_type": "code",
   "execution_count": 65,
   "metadata": {},
   "outputs": [
    {
     "data": {
      "text/plain": [
       "array([[0.01568627, 0.01568627, 0.01568627],\n",
       "       [0.01176471, 0.01176471, 0.01176471],\n",
       "       [0.01176471, 0.00392157, 0.00784314],\n",
       "       ...,\n",
       "       [0.37647059, 0.01176471, 0.05098039],\n",
       "       [0.38431373, 0.00784314, 0.05098039],\n",
       "       [0.38039216, 0.00392157, 0.04705882]])"
      ]
     },
     "execution_count": 65,
     "metadata": {},
     "output_type": "execute_result"
    }
   ],
   "source": [
    "new_img"
   ]
  },
  {
   "cell_type": "code",
   "execution_count": 66,
   "metadata": {},
   "outputs": [
    {
     "data": {
      "text/plain": [
       "(480000, 3)"
      ]
     },
     "execution_count": 66,
     "metadata": {},
     "output_type": "execute_result"
    }
   ],
   "source": [
    "new_img.shape  # this picture has 2448 * 3264 pixel.  \n",
    "\n",
    "#Every pixel has Red Green Blue from 0 - 255, which is normalized betwwen 0 - 1.\n",
    "\n",
    "# Now we want to see which 16 centroids can be most representative."
   ]
  },
  {
   "cell_type": "code",
   "execution_count": 69,
   "metadata": {},
   "outputs": [],
   "source": [
    "from sklearn.cluster import KMeans\n",
    "\n",
    "km = KMeans(\n",
    "    n_clusters=16, init='random',\n",
    "    n_init=5, max_iter=100, \n",
    "    tol=1e-04, random_state=0\n",
    ")\n",
    "y_km = km.fit_predict(new_img)"
   ]
  },
  {
   "cell_type": "code",
   "execution_count": 70,
   "metadata": {},
   "outputs": [
    {
     "data": {
      "text/plain": [
       "array([12, 12, 12, ..., 10, 10, 10], dtype=int32)"
      ]
     },
     "execution_count": 70,
     "metadata": {},
     "output_type": "execute_result"
    }
   ],
   "source": [
    "y_km"
   ]
  },
  {
   "cell_type": "code",
   "execution_count": 77,
   "metadata": {},
   "outputs": [
    {
     "data": {
      "text/plain": [
       "DescribeResult(nobs=480000, minmax=(0, 15), mean=7.308960416666666, variance=18.18538343048197, skewness=-0.20175330029416655, kurtosis=-1.0930606600018036)"
      ]
     },
     "execution_count": 77,
     "metadata": {},
     "output_type": "execute_result"
    }
   ],
   "source": [
    "from scipy import stats\n",
    "stats.describe(y_km)"
   ]
  },
  {
   "cell_type": "code",
   "execution_count": 82,
   "metadata": {},
   "outputs": [
    {
     "data": {
      "text/plain": [
       "array([12, 12, 12, ..., 10, 10, 10], dtype=int32)"
      ]
     },
     "execution_count": 82,
     "metadata": {},
     "output_type": "execute_result"
    }
   ],
   "source": [
    "km.labels_"
   ]
  },
  {
   "cell_type": "code",
   "execution_count": 84,
   "metadata": {},
   "outputs": [
    {
     "data": {
      "text/plain": [
       "array([[0.87095473, 0.79398442, 0.32378866],\n",
       "       [0.24057039, 0.01959762, 0.03616099],\n",
       "       [0.29223148, 0.18259573, 0.08209104],\n",
       "       [0.7078826 , 0.57269119, 0.48162359],\n",
       "       [0.97561395, 0.96893257, 0.92771373],\n",
       "       [0.90587292, 0.02056081, 0.18524665],\n",
       "       [0.67515616, 0.56553839, 0.19353424],\n",
       "       [0.31633463, 0.01958017, 0.05013334],\n",
       "       [0.58566218, 0.38800054, 0.28602598],\n",
       "       [0.16640241, 0.03045959, 0.02645008],\n",
       "       [0.41562086, 0.02240033, 0.06763529],\n",
       "       [0.54691387, 0.03523788, 0.10095307],\n",
       "       [0.07547056, 0.02090646, 0.01596069],\n",
       "       [0.44269359, 0.30975023, 0.14840165],\n",
       "       [0.70625408, 0.02995818, 0.13669025],\n",
       "       [0.90495557, 0.83954432, 0.64298744]])"
      ]
     },
     "execution_count": 84,
     "metadata": {},
     "output_type": "execute_result"
    }
   ],
   "source": [
    "km.cluster_centers_"
   ]
  },
  {
   "cell_type": "code",
   "execution_count": 89,
   "metadata": {},
   "outputs": [],
   "source": [
    "centroids = np.round((km.cluster_centers_)*255)"
   ]
  },
  {
   "cell_type": "code",
   "execution_count": 90,
   "metadata": {},
   "outputs": [
    {
     "data": {
      "text/plain": [
       "array([[222., 202.,  83.],\n",
       "       [ 61.,   5.,   9.],\n",
       "       [ 75.,  47.,  21.],\n",
       "       [181., 146., 123.],\n",
       "       [249., 247., 237.],\n",
       "       [231.,   5.,  47.],\n",
       "       [172., 144.,  49.],\n",
       "       [ 81.,   5.,  13.],\n",
       "       [149.,  99.,  73.],\n",
       "       [ 42.,   8.,   7.],\n",
       "       [106.,   6.,  17.],\n",
       "       [139.,   9.,  26.],\n",
       "       [ 19.,   5.,   4.],\n",
       "       [113.,  79.,  38.],\n",
       "       [180.,   8.,  35.],\n",
       "       [231., 214., 164.]])"
      ]
     },
     "execution_count": 90,
     "metadata": {},
     "output_type": "execute_result"
    }
   ],
   "source": [
    "centroids"
   ]
  },
  {
   "cell_type": "code",
   "execution_count": null,
   "metadata": {},
   "outputs": [],
   "source": [
    "import numpy as np\n",
    "import itertools\n",
    "import scipy.misc as sc\n",
    "\n",
    "img = np.zeros((305,314,3), dtype=np.uint8) \n",
    "\n",
    "with open ('coordinates') as coord, open('rgbvalues') as rgb:\n",
    "    for coord,rgb in itertools.izip(coord,rgb):\n",
    "        rgb = map(int, rgb.split(','))\n",
    "        r = rgb\n",
    "\n",
    "        coord = map(int, coord.split(','))\n",
    "        c = coord\n",
    "        img[c[0],c[1]] = [r[0],r[1],r[2]]\n",
    "    img = sc.toimage(img)\n",
    "    img.show()"
   ]
  }
 ],
 "metadata": {
  "kernelspec": {
   "display_name": "Python 3",
   "language": "python",
   "name": "python3"
  },
  "language_info": {
   "codemirror_mode": {
    "name": "ipython",
    "version": 3
   },
   "file_extension": ".py",
   "mimetype": "text/x-python",
   "name": "python",
   "nbconvert_exporter": "python",
   "pygments_lexer": "ipython3",
   "version": "3.7.4"
  }
 },
 "nbformat": 4,
 "nbformat_minor": 4
}
