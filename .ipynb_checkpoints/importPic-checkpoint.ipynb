{
 "cells": [
  {
   "cell_type": "code",
   "execution_count": 44,
   "metadata": {},
   "outputs": [
    {
     "name": "stdout",
     "output_type": "stream",
     "text": [
      "Requirement already satisfied: Pillow in /Users/junweiluo/anaconda3/lib/python3.7/site-packages (6.2.0)\n",
      "Note: you may need to restart the kernel to use updated packages.\n"
     ]
    }
   ],
   "source": [
    "pip install Pillow"
   ]
  },
  {
   "cell_type": "code",
   "execution_count": 45,
   "metadata": {},
   "outputs": [],
   "source": [
    "from PIL import Image\n",
    "import numpy as np"
   ]
  },
  {
   "cell_type": "code",
   "execution_count": 46,
   "metadata": {},
   "outputs": [
    {
     "name": "stdout",
     "output_type": "stream",
     "text": [
      "2448 3264\n"
     ]
    }
   ],
   "source": [
    "im = Image.open('sample.jpg') # Can be many different formats.\n",
    "pix = im.load()\n",
    "(x, y) =im.size  # Get the width and hight of the image for iterating over\n",
    "print(x, y)\n",
    "#print(pix[x,y])  # Get the RGBA Value of the a pixel of an image\n",
    "#pix[x,y] = value  # Set the RGBA Value of the image (tuple)\n",
    "#im.save('sample.png')  # Save the modified pixels as .png"
   ]
  },
  {
   "cell_type": "code",
   "execution_count": 50,
   "metadata": {},
   "outputs": [],
   "source": [
    "pix_load = np.array(im.getdata()).reshape(im.size[0], im.size[1], 3)"
   ]
  },
  {
   "cell_type": "code",
   "execution_count": 48,
   "metadata": {},
   "outputs": [
    {
     "data": {
      "text/plain": [
       "array([[[  7,   7,   7],\n",
       "        [  6,   6,   6],\n",
       "        [  5,   5,   5],\n",
       "        ...,\n",
       "        [ 52,   3,   9],\n",
       "        [ 50,   1,   5],\n",
       "        [ 47,   0,   2]],\n",
       "\n",
       "       [[ 51,   0,   4],\n",
       "        [ 53,   0,   6],\n",
       "        [ 55,   4,  11],\n",
       "        ...,\n",
       "        [ 87,   2,   9],\n",
       "        [ 90,   5,  12],\n",
       "        [ 91,   6,  13]],\n",
       "\n",
       "       [[ 92,   5,  14],\n",
       "        [ 94,   7,  16],\n",
       "        [ 91,   4,  13],\n",
       "        ...,\n",
       "        [  7,   6,   4],\n",
       "        [  7,   6,   4],\n",
       "        [  6,   5,   3]],\n",
       "\n",
       "       ...,\n",
       "\n",
       "       [[  4,   4,   4],\n",
       "        [  5,   5,   5],\n",
       "        [  6,   6,   6],\n",
       "        ...,\n",
       "        [ 56,   0,   3],\n",
       "        [ 53,   4,  10],\n",
       "        [ 48,   3,  10]],\n",
       "\n",
       "       [[ 37,   5,   8],\n",
       "        [ 35,   3,   6],\n",
       "        [ 33,   1,   4],\n",
       "        ...,\n",
       "        [140,  90,  39],\n",
       "        [152, 101,  48],\n",
       "        [155, 104,  51]],\n",
       "\n",
       "       [[166, 107,  65],\n",
       "        [123,  66,  13],\n",
       "        [116,  63,   0],\n",
       "        ...,\n",
       "        [ 90,   3,  12],\n",
       "        [ 91,   5,  14],\n",
       "        [ 85,   0,   8]]])"
      ]
     },
     "execution_count": 48,
     "metadata": {},
     "output_type": "execute_result"
    }
   ],
   "source": [
    "pix_load"
   ]
  },
  {
   "cell_type": "code",
   "execution_count": 51,
   "metadata": {},
   "outputs": [],
   "source": [
    "new_img = pix_load.reshape((pix_load.shape[0]*pix_load.shape[1]), pix_load.shape[2])/255"
   ]
  },
  {
   "cell_type": "code",
   "execution_count": 52,
   "metadata": {},
   "outputs": [
    {
     "data": {
      "text/plain": [
       "array([[0.02745098, 0.02745098, 0.02745098],\n",
       "       [0.02352941, 0.02352941, 0.02352941],\n",
       "       [0.01960784, 0.01960784, 0.01960784],\n",
       "       ...,\n",
       "       [0.35294118, 0.01176471, 0.04705882],\n",
       "       [0.35686275, 0.01960784, 0.05490196],\n",
       "       [0.33333333, 0.        , 0.03137255]])"
      ]
     },
     "execution_count": 52,
     "metadata": {},
     "output_type": "execute_result"
    }
   ],
   "source": [
    "new_img"
   ]
  },
  {
   "cell_type": "code",
   "execution_count": 53,
   "metadata": {},
   "outputs": [
    {
     "data": {
      "text/plain": [
       "(7990272, 3)"
      ]
     },
     "execution_count": 53,
     "metadata": {},
     "output_type": "execute_result"
    }
   ],
   "source": [
    "new_img.shape  # this picture has 2448 * 3264 pixel.  \n",
    "\n",
    "#Every pixel has Red Green Blue from 0 - 255, which is normalized betwwen 0 - 1.\n",
    "\n",
    "# Now we want to see which 16 centroids can be most representative."
   ]
  },
  {
   "cell_type": "code",
   "execution_count": null,
   "metadata": {},
   "outputs": [],
   "source": [
    "from sklearn.cluster import KMeans\n",
    "\n",
    "km = KMeans(\n",
    "    n_clusters=16, init='random',\n",
    "    n_init=10, max_iter=300, \n",
    "    tol=1e-04, random_state=0\n",
    ")\n",
    "y_km = km.fit_predict(new_img)"
   ]
  },
  {
   "cell_type": "code",
   "execution_count": null,
   "metadata": {},
   "outputs": [],
   "source": [
    "import numpy as np\n",
    "import itertools\n",
    "import scipy.misc as sc\n",
    "\n",
    "img = np.zeros((305,314,3), dtype=np.uint8) \n",
    "\n",
    "with open ('coordinates') as coord, open('rgbvalues') as rgb:\n",
    "    for coord,rgb in itertools.izip(coord,rgb):\n",
    "        rgb = map(int, rgb.split(','))\n",
    "        r = rgb\n",
    "\n",
    "        coord = map(int, coord.split(','))\n",
    "        c = coord\n",
    "        img[c[0],c[1]] = [r[0],r[1],r[2]]\n",
    "    img = sc.toimage(img)\n",
    "    img.show()"
   ]
  }
 ],
 "metadata": {
  "kernelspec": {
   "display_name": "Python 3",
   "language": "python",
   "name": "python3"
  },
  "language_info": {
   "codemirror_mode": {
    "name": "ipython",
    "version": 3
   },
   "file_extension": ".py",
   "mimetype": "text/x-python",
   "name": "python",
   "nbconvert_exporter": "python",
   "pygments_lexer": "ipython3",
   "version": "3.7.4"
  }
 },
 "nbformat": 4,
 "nbformat_minor": 4
}
