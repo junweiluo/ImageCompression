{
 "cells": [
  {
   "cell_type": "code",
   "execution_count": 39,
   "metadata": {},
   "outputs": [],
   "source": [
    "from PIL import Image\n",
    "import numpy as np\n",
    "from sklearn.cluster import KMeans"
   ]
  },
  {
   "cell_type": "code",
   "execution_count": 41,
   "metadata": {},
   "outputs": [],
   "source": [
    "# import original image, get the size of the image\n",
    "im_original = Image.open('Resource/sample.JPG')\n",
    "(x, y) =im_original.size  # Get the width and hight of the image "
   ]
  },
  {
   "cell_type": "code",
   "execution_count": 43,
   "metadata": {},
   "outputs": [],
   "source": [
    "# get image data, reshape to list of pixels of RGB, and scale between 0 and 1\n",
    "im_data = np.array(im_original.getdata())\n",
    "im_data_transformed = im_data.reshape(x * y, int(im_data.size/x/y)) /255"
   ]
  },
  {
   "cell_type": "code",
   "execution_count": 44,
   "metadata": {},
   "outputs": [
    {
     "data": {
      "text/plain": [
       "array([ 1,  1,  1, ...,  7, 14,  0], dtype=int32)"
      ]
     },
     "execution_count": 44,
     "metadata": {},
     "output_type": "execute_result"
    }
   ],
   "source": [
    "# select 16 colors to represent all pixels\n",
    "km = KMeans(\n",
    "    n_clusters=16, init='random',\n",
    "    n_init=10, max_iter=100, \n",
    "    tol=1e-04, random_state=0\n",
    ")\n",
    "km.fit_predict(im_data_transformed)\n",
    "# km.labels_ as assigments for each pixel, km.clueter_centers_ as selected colors"
   ]
  },
  {
   "cell_type": "code",
   "execution_count": 45,
   "metadata": {},
   "outputs": [],
   "source": [
    "# transform centroids to 255 scale\n",
    "centroids = (km.cluster_centers_* 255).astype(\"uint8\")"
   ]
  },
  {
   "cell_type": "code",
   "execution_count": null,
   "metadata": {},
   "outputs": [],
   "source": [
    "# fill each pixel with selected centroids\n",
    "list_ = []\n",
    "for label in km.labels_:\n",
    "    list_.append(centroids[label])"
   ]
  },
  {
   "cell_type": "code",
   "execution_count": null,
   "metadata": {},
   "outputs": [],
   "source": [
    "# transform back to image shape, form image, save impage\n",
    "list2 = np.reshape(list_,(y,x,int(im_data.size/x/y)))\n",
    "im_compressed = Image.fromarray(list2, 'RGB')\n",
    "im_compressed.save('KMeans/sample_PIL_compressed.JPG')"
   ]
  },
  {
   "cell_type": "code",
   "execution_count": null,
   "metadata": {},
   "outputs": [],
   "source": [
    "# show original and compressed images \n",
    "im_original.show()\n",
    "im_compressed.show()"
   ]
  },
  {
   "cell_type": "code",
   "execution_count": null,
   "metadata": {},
   "outputs": [],
   "source": []
  }
 ],
 "metadata": {
  "kernelspec": {
   "display_name": "Python 3",
   "language": "python",
   "name": "python3"
  },
  "language_info": {
   "codemirror_mode": {
    "name": "ipython",
    "version": 3
   },
   "file_extension": ".py",
   "mimetype": "text/x-python",
   "name": "python",
   "nbconvert_exporter": "python",
   "pygments_lexer": "ipython3",
   "version": "3.7.4"
  }
 },
 "nbformat": 4,
 "nbformat_minor": 4
}
